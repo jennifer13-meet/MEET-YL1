{
 "metadata": {
  "name": ""
 },
 "nbformat": 3,
 "nbformat_minor": 0,
 "worksheets": [
  {
   "cells": [
    {
     "cell_type": "code",
     "collapsed": false,
     "input": [
      "import csv\n"
     ],
     "language": "python",
     "metadata": {},
     "outputs": [],
     "prompt_number": 1
    },
    {
     "cell_type": "code",
     "collapsed": false,
     "input": [
      "f = open('melanoma.csv', 'rb')\n",
      "reader = csv.reader(f)\n",
      "index = 0\n",
      "year = []\n",
      "incidence = []\n",
      "for row in reader:\n",
      "    if index != 0:\n",
      "       r = map(float, row)\n",
      "       year.append(r[0])\n",
      "       incidence.append(r[1])\n",
      "       print r\n",
      "    index += 1\n",
      "    \n",
      "f.close()"
     ],
     "language": "python",
     "metadata": {},
     "outputs": [
      {
       "output_type": "stream",
       "stream": "stdout",
       "text": [
        "[1936.0, 0.9]\n",
        "[1937.0, 0.8]\n",
        "[1938.0, 0.8]\n",
        "[1939.0, 1.3]\n",
        "[1940.0, 1.4]\n",
        "[1941.0, 1.2]\n",
        "[1942.0, 1.7]\n",
        "[1943.0, 1.8]\n",
        "[1944.0, 1.6]\n",
        "[1945.0, 1.5]\n",
        "[1946.0, 1.5]\n",
        "[1947.0, 2.0]\n",
        "[1948.0, 2.5]\n",
        "[1949.0, 2.7]\n",
        "[1950.0, 2.9]\n",
        "[1951.0, 2.5]\n",
        "[1952.0, 3.1]\n",
        "[1953.0, 2.4]\n",
        "[1954.0, 2.2]\n",
        "[1955.0, 2.9]\n",
        "[1956.0, 2.5]\n",
        "[1957.0, 2.6]\n",
        "[1958.0, 3.2]\n",
        "[1959.0, 3.8]\n",
        "[1960.0, 4.2]\n",
        "[1961.0, 3.9]\n",
        "[1962.0, 3.7]\n",
        "[1963.0, 3.3]\n",
        "[1964.0, 3.7]\n",
        "[1965.0, 3.9]\n",
        "[1966.0, 4.1]\n",
        "[1967.0, 3.8]\n",
        "[1968.0, 4.7]\n",
        "[1969.0, 4.4]\n",
        "[1970.0, 4.8]\n",
        "[1971.0, 4.8]\n",
        "[1972.0, 4.8]\n"
       ]
      }
     ],
     "prompt_number": 2
    },
    {
     "cell_type": "code",
     "collapsed": false,
     "input": [
      "from pylab import *\n",
      "fig = plt.figure()\n",
      "ax = fig.add_subplot(111)\n",
      "ax.set_title('Melanoma year and incidence')\n",
      "ax.set_xlabel('The year')\n",
      "ax.set_ylabel('The incidence')\n",
      "ax.plot(year, incidence)\n",
      "fig.savefig(\"Melanoma_with_titles.png\")"
     ],
     "language": "python",
     "metadata": {},
     "outputs": [
      {
       "metadata": {},
       "output_type": "display_data",
       "png": "[encoded data removed]",
       "text": [
        "<matplotlib.figure.Figure at 0xa3fe74c>"
       ]
      }
     ],
     "prompt_number": 3
    },
    {
     "cell_type": "markdown",
     "metadata": {},
     "source": [
      "This graph shows the incidence of melanoma illness in every 5 years. And it appears that every 5 years the incidence of melanoma illness is growing higher and higher.. which means more people will be victims of the melanoma illness in the near future."
     ]
    },
    {
     "cell_type": "code",
     "collapsed": false,
     "input": [],
     "language": "python",
     "metadata": {},
     "outputs": [],
     "prompt_number": 37
    },
    {
     "cell_type": "code",
     "collapsed": false,
     "input": [],
     "language": "python",
     "metadata": {},
     "outputs": [],
     "prompt_number": 37
    },
    {
     "cell_type": "code",
     "collapsed": false,
     "input": [],
     "language": "python",
     "metadata": {},
     "outputs": [],
     "prompt_number": 37
    },
    {
     "cell_type": "code",
     "collapsed": false,
     "input": [],
     "language": "python",
     "metadata": {},
     "outputs": [],
     "prompt_number": 37
    },
    {
     "cell_type": "code",
     "collapsed": false,
     "input": [],
     "language": "python",
     "metadata": {},
     "outputs": []
    }
   ],
   "metadata": {}
  }
 ]
}